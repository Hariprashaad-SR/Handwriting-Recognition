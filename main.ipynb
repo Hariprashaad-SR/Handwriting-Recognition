{
 "cells": [
  {
   "cell_type": "code",
   "execution_count": 1,
   "metadata": {},
   "outputs": [],
   "source": [
    "import numpy as np\n",
    "import pandas as pd"
   ]
  },
  {
   "cell_type": "code",
   "execution_count": 2,
   "metadata": {},
   "outputs": [],
   "source": [
    "x_train = pd.read_csv('Assets/train_X.csv')\n",
    "y_train = pd.read_csv('Assets/train_label.csv')\n",
    "\n",
    "x_test = pd.read_csv('Assets/test_X.csv')\n",
    "y_test = pd.read_csv('Assets/test_label.csv')\n"
   ]
  },
  {
   "cell_type": "code",
   "execution_count": 3,
   "metadata": {},
   "outputs": [
    {
     "name": "stdout",
     "output_type": "stream",
     "text": [
      "Shape of X-train : (999, 784)\n",
      "Shape of Y_train : (999, 10)\n",
      "Shape of X_test : (349, 784)\n",
      "Shape of Y_test : (349, 10)\n"
     ]
    }
   ],
   "source": [
    "print(f'Shape of X-train : {x_train.shape}\\nShape of Y_train : {y_train.shape}\\nShape of X_test : {x_test.shape}\\nShape of Y_test : {y_test.shape}')"
   ]
  },
  {
   "cell_type": "markdown",
   "metadata": {},
   "source": [
    "784 = 28px x 28px (image input)"
   ]
  },
  {
   "cell_type": "code",
   "execution_count": 5,
   "metadata": {},
   "outputs": [],
   "source": [
    "x_train = np.array(x_train).T\n",
    "y_train = np.array(y_train).T\n",
    "x_test = np.array(x_test).T\n",
    "y_test = np.array(y_test).T"
   ]
  },
  {
   "cell_type": "code",
   "execution_count": 6,
   "metadata": {},
   "outputs": [
    {
     "name": "stdout",
     "output_type": "stream",
     "text": [
      "Shape of X-train : (784, 999)\n",
      "Shape of Y_train : (10, 999)\n",
      "Shape of X_test : (784, 349)\n",
      "Shape of Y_test : (10, 349)\n"
     ]
    }
   ],
   "source": [
    "print(f'Shape of X-train : {x_train.shape}\\nShape of Y_train : {y_train.shape}\\nShape of X_test : {x_test.shape}\\nShape of Y_test : {y_test.shape}')\n"
   ]
  },
  {
   "cell_type": "markdown",
   "metadata": {},
   "source": [
    "# Now displaying our input image randomly"
   ]
  },
  {
   "cell_type": "code",
   "execution_count": 10,
   "metadata": {},
   "outputs": [],
   "source": [
    "import random\n",
    "import matplotlib.pyplot as plt"
   ]
  },
  {
   "cell_type": "code",
   "execution_count": 9,
   "metadata": {},
   "outputs": [
    {
     "data": {
      "text/plain": [
       "999"
      ]
     },
     "execution_count": 9,
     "metadata": {},
     "output_type": "execute_result"
    }
   ],
   "source": [
    "x_train.shape[1]"
   ]
  },
  {
   "cell_type": "markdown",
   "metadata": {},
   "source": [
    "#### Now we are gonna take a random image and display it \n",
    "> - TODO\n",
    "- Select a random image from the sample : `x_train.shape[1]`\n",
    "- Select the sample and reshape it\n",
    "- Additionally you can use the `cmap` to change its color"
   ]
  },
  {
   "cell_type": "code",
   "execution_count": 13,
   "metadata": {},
   "outputs": [
    {
     "data": {
      "text/plain": [
       "<function matplotlib.pyplot.show(close=None, block=None)>"
      ]
     },
     "execution_count": 13,
     "metadata": {},
     "output_type": "execute_result"
    },
    {
     "data": {
      "image/png": "[encoded data removed]",
      "text/plain": [
       "<Figure size 640x480 with 1 Axes>"
      ]
     },
     "metadata": {},
     "output_type": "display_data"
    }
   ],
   "source": [
    "index = random.randrange(0, x_train.shape[1])\n",
    "plt.imshow(x_train[:, index].reshape(28,28), cmap = 'gray')\n",
    "plt.show"
   ]
  },
  {
   "cell_type": "markdown",
   "metadata": {},
   "source": [
    "# Neural network\n",
    "> Activation functions"
   ]
  },
  {
   "cell_type": "code",
   "execution_count": 34,
   "metadata": {},
   "outputs": [],
   "source": [
    "def tanh(x):\n",
    "    return np.tanh(x)\n",
    "\n",
    "def relu(x):\n",
    "    return np.maximum(x, 0)\n",
    "\n",
    "def softmax(x):\n",
    "    expX = np.exp(x)\n",
    "    return expX / np.sum(expX, axis=0)\n"
   ]
  },
  {
   "cell_type": "code",
   "execution_count": 15,
   "metadata": {},
   "outputs": [],
   "source": [
    "def der_tanh(x):\n",
    "    return (1 - np.power(tanh(x), 2))\n",
    "\n",
    "def der_relu(x):\n",
    "    return np.array(x > 0 , dtype = np.float32)"
   ]
  },
  {
   "cell_type": "markdown",
   "metadata": {},
   "source": [
    "### Initialise weights and biases"
   ]
  },
  {
   "cell_type": "code",
   "execution_count": 17,
   "metadata": {},
   "outputs": [
    {
     "data": {
      "text/plain": [
       "array([[ 0.6304768 ,  0.69287199],\n",
       "       [-1.58966675,  1.85443931],\n",
       "       [-1.55428661, -0.5390399 ],\n",
       "       [-0.0812357 , -0.84826269]])"
      ]
     },
     "execution_count": 17,
     "metadata": {},
     "output_type": "execute_result"
    }
   ],
   "source": [
    "np.random.randn(4,2)"
   ]
  },
  {
   "cell_type": "code",
   "execution_count": 21,
   "metadata": {},
   "outputs": [],
   "source": [
    "def initialise_parameters(nx, nh, ny):\n",
    "    w1 = np.random.randn(nh, nx) * 0.01\n",
    "    b1 = np.zeros((nh, 1))\n",
    "\n",
    "    w2 = np.random.randn(ny, nh) * 0.01\n",
    "    b2 = np.zeros((ny, 1))\n",
    "\n",
    "    parameters = {\n",
    "        'w1' : w1,\n",
    "        'b1' : b1,\n",
    "        'w2' : w2,\n",
    "        'b2' : b2\n",
    "    }\n",
    "\n",
    "    return parameters"
   ]
  },
  {
   "cell_type": "code",
   "execution_count": 22,
   "metadata": {},
   "outputs": [
    {
     "data": {
      "text/plain": [
       "{'w1': array([[ 0.00554042, -0.01088793, -0.01068916],\n",
       "        [ 0.00098722, -0.004108  ,  0.00092707],\n",
       "        [-0.01219032, -0.0060301 ,  0.00628014],\n",
       "        [ 0.01194502,  0.00526338, -0.00388159]]),\n",
       " 'b1': array([[0.],\n",
       "        [0.],\n",
       "        [0.],\n",
       "        [0.]]),\n",
       " 'w2': array([[-0.00419717,  0.00052739,  0.01378646,  0.01241304],\n",
       "        [-0.00910132,  0.00117729,  0.01408348, -0.01022559],\n",
       "        [-0.00647968, -0.00486797, -0.00529317,  0.02759965],\n",
       "        [ 0.0074645 ,  0.0084642 ,  0.00086031,  0.01190187]]),\n",
       " 'b2': array([[0.],\n",
       "        [0.],\n",
       "        [0.],\n",
       "        [0.]])}"
      ]
     },
     "execution_count": 22,
     "metadata": {},
     "output_type": "execute_result"
    }
   ],
   "source": [
    "initialise_parameters(3, 4, 4)"
   ]
  },
  {
   "cell_type": "code",
   "execution_count": null,
   "metadata": {},
   "outputs": [],
   "source": []
  },
  {
   "cell_type": "markdown",
   "metadata": {},
   "source": [
    "### Forward Propagation\n"
   ]
  },
  {
   "cell_type": "code",
   "execution_count": 27,
   "metadata": {},
   "outputs": [
    {
     "data": {
      "text/plain": [
       "array([[ 8, 14, 16],\n",
       "       [14, 24, 27],\n",
       "       [10, 18, 21]])"
      ]
     },
     "execution_count": 27,
     "metadata": {},
     "output_type": "execute_result"
    }
   ],
   "source": [
    "np.dot([[2,2],[4,3],[2,3]],[[2,3,3],[2,4,5]])"
   ]
  },
  {
   "cell_type": "code",
   "execution_count": 71,
   "metadata": {},
   "outputs": [],
   "source": [
    "def forward_prop(x, parameters):\n",
    "    w1 = parameters['w1']\n",
    "    b1 = parameters['b1']\n",
    "    w2 = parameters['w2']\n",
    "    b2 = parameters['b2']\n",
    "    z1 = np.dot(w1, x) + b1\n",
    "    a1 = tanh(z1)\n",
    "\n",
    "    z2 = np.dot(w2, a1) + b2\n",
    "    a2 = softmax(z2)\n",
    "\n",
    "    forward_cache = {\n",
    "        'z1' : z1,\n",
    "        'a1' : a1,\n",
    "        'z2' : z2,\n",
    "        'a2' : a2\n",
    "    }\n",
    "\n",
    "    return forward_cache"
   ]
  },
  {
   "cell_type": "markdown",
   "metadata": {},
   "source": [
    "### Cost function\n"
   ]
  },
  {
   "cell_type": "code",
   "execution_count": 28,
   "metadata": {},
   "outputs": [],
   "source": [
    "def cost_function(a2, y):\n",
    "    m = y.shape[1]\n",
    "    # Cross entropy\n",
    "    cost = -(1/m) * np.sum(y * np.log(a2))\n",
    "    return cost"
   ]
  },
  {
   "cell_type": "markdown",
   "metadata": {},
   "source": [
    "### Backward propagation"
   ]
  },
  {
   "cell_type": "code",
   "execution_count": 72,
   "metadata": {},
   "outputs": [],
   "source": [
    "def backward_prop(x, y, parameters, forward_cache):\n",
    "    w1 = parameters['w1']\n",
    "    b1 = parameters['b1']\n",
    "    w2 = parameters['w2']\n",
    "    b2 = parameters['b2']\n",
    "\n",
    "    a1 = forward_cache['a1']\n",
    "    a2 = forward_cache['a2']\n",
    "\n",
    "    m = x.shape[1]\n",
    "\n",
    "    dz2 = (a2 - y)\n",
    "    dw2 = (1/m) * np.dot(dz2, a1.T)\n",
    "    db2 = (1/m) * np.sum(dz2, axis = 1, keepdims = True)\n",
    "\n",
    "    dz1 = (1/m) * np.dot(w2.T , dz2) * der_tanh(a1)\n",
    "    dw1 = (1/m) * np.dot(dz1, x.T)\n",
    "    db1 = (1/m) * np.sum(dz1, axis = 1, keepdims = True)\n",
    "\n",
    "    gradients = {\n",
    "        'dw1' : dw1,\n",
    "        'db1' : db1,\n",
    "        'dw2' : dw2,\n",
    "        'db2' : db2\n",
    "    }\n",
    "\n",
    "    return gradients"
   ]
  },
  {
   "cell_type": "markdown",
   "metadata": {},
   "source": [
    "### Update parameters\n"
   ]
  },
  {
   "cell_type": "code",
   "execution_count": 30,
   "metadata": {},
   "outputs": [],
   "source": [
    "def update_params(parameters,gradients, learning_rate):\n",
    "    w1 = parameters['w1']\n",
    "    b1 = parameters['b1']\n",
    "    w2 = parameters['w2']\n",
    "    b2 = parameters['b2']\n",
    "\n",
    "    dw1 = gradients['dw1']\n",
    "    db1 = gradients['db1']\n",
    "    dw2 = gradients['dw2']\n",
    "    db2 = gradients['db2']\n",
    "\n",
    "    w1 = w1 - learning_rate * dw1\n",
    "    b1 = b1 - learning_rate * db1\n",
    "    w2 = w2 - learning_rate * dw2\n",
    "    b2 = b2 - learning_rate * db2\n",
    "    \n",
    "    parameters = {\n",
    "        'w1' : w1,\n",
    "        'b1' : b1,\n",
    "        'w2' : w2,\n",
    "        'b2' : b2\n",
    "    }\n",
    "    return parameters\n"
   ]
  },
  {
   "cell_type": "code",
   "execution_count": null,
   "metadata": {},
   "outputs": [],
   "source": []
  },
  {
   "cell_type": "markdown",
   "metadata": {},
   "source": [
    "# Final model"
   ]
  },
  {
   "cell_type": "code",
   "execution_count": 59,
   "metadata": {},
   "outputs": [],
   "source": [
    "def model(x, y, nh, learning_rate, epochs):\n",
    "    nx = x.shape[0]\n",
    "    ny = y.shape[0]\n",
    "    cost_lst = []\n",
    "    parameters = initialise_parameters(nx, nh, ny)\n",
    "\n",
    "    for epoch in range(epochs):\n",
    "        forward_cache = forward_prop(x ,parameters)\n",
    "        cost = cost_function(forward_cache['a2'], y)\n",
    "        gradients = backward_prop(x, y, parameters, forward_cache)\n",
    "        parameters = update_params(parameters, gradients, learning_rate)\n",
    "\n",
    "        cost_lst.append(cost)\n",
    "\n",
    "    return parameters, cost_lst"
   ]
  },
  {
   "cell_type": "code",
   "execution_count": 77,
   "metadata": {},
   "outputs": [],
   "source": [
    "epochs = 1000\n",
    "learning_rate = 0.01\n",
    "nh = 999\n",
    "parameters, cost_lst = model(x_train, y_train, nh, learning_rate, epochs)"
   ]
  },
  {
   "cell_type": "markdown",
   "metadata": {},
   "source": [
    "# End"
   ]
  },
  {
   "cell_type": "code",
   "execution_count": 78,
   "metadata": {},
   "outputs": [
    {
     "data": {
      "image/png": "[encoded data removed]",
      "text/plain": [
       "<Figure size 640x480 with 1 Axes>"
      ]
     },
     "metadata": {},
     "output_type": "display_data"
    }
   ],
   "source": [
    "t = np.arange(0, epochs)\n",
    "plt.plot(t, cost_lst)\n",
    "plt.show()\n"
   ]
  },
  {
   "cell_type": "code",
   "execution_count": 79,
   "metadata": {},
   "outputs": [],
   "source": [
    "def accuracy(x, y, parameters):\n",
    "\n",
    "    forward_cache = forward_prop(x, parameters)\n",
    "\n",
    "    a_out = forward_cache['a2']\n",
    "\n",
    "    a_out = np.argmax(a_out, 0)\n",
    "\n",
    "    y_out = np.argmax(y, 0)\n",
    "\n",
    "    acc = np.mean(a_out == y_out) * 100\n",
    "\n",
    "    return acc\n"
   ]
  },
  {
   "cell_type": "code",
   "execution_count": 80,
   "metadata": {},
   "outputs": [
    {
     "name": "stdout",
     "output_type": "stream",
     "text": [
      "86.53295128939828\n"
     ]
    }
   ],
   "source": [
    "print(accuracy(x_test, y_test, parameters))"
   ]
  },
  {
   "cell_type": "code",
   "execution_count": 81,
   "metadata": {},
   "outputs": [
    {
     "data": {
      "text/plain": [
       "<function matplotlib.pyplot.show(close=None, block=None)>"
      ]
     },
     "execution_count": 81,
     "metadata": {},
     "output_type": "execute_result"
    },
    {
     "data": {
      "image/png": "[encoded data removed]",
      "text/plain": [
       "<Figure size 640x480 with 1 Axes>"
      ]
     },
     "metadata": {},
     "output_type": "display_data"
    }
   ],
   "source": [
    "index = random.randrange(0, x_train.shape[1])\n",
    "plt.imshow(x_train[:, index].reshape(28,28), cmap = 'gray')\n",
    "plt.show"
   ]
  },
  {
   "cell_type": "code",
   "execution_count": null,
   "metadata": {},
   "outputs": [],
   "source": [
    "def acc(x, parameters):\n",
    "\n",
    "    forward_cache = forward_prop(x, parameters)\n",
    "\n",
    "    a_out = forward_cache['a2']\n",
    "\n",
    "    a_out = np.argmax(a_out, 0)\n",
    "\n",
    "    return a_out"
   ]
  }
 ],
 "metadata": {
  "kernelspec": {
   "display_name": "rec",
   "language": "python",
   "name": "python3"
  },
  "language_info": {
   "codemirror_mode": {
    "name": "ipython",
    "version": 3
   },
   "file_extension": ".py",
   "mimetype": "text/x-python",
   "name": "python",
   "nbconvert_exporter": "python",
   "pygments_lexer": "ipython3",
   "version": "3.10.8"
  }
 },
 "nbformat": 4,
 "nbformat_minor": 2
}
